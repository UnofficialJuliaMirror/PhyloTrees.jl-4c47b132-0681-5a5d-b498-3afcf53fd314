{
 "cells": [
  {
   "cell_type": "markdown",
   "metadata": {},
   "source": [
    "# 1.0 Getting started"
   ]
  },
  {
   "cell_type": "markdown",
   "metadata": {},
   "source": [
    "## 1.1 Package installation"
   ]
  },
  {
   "cell_type": "code",
   "execution_count": 1,
   "metadata": {
    "collapsed": false
   },
   "outputs": [],
   "source": [
    "# Pkg.add(\"PhyloTrees\")"
   ]
  },
  {
   "cell_type": "markdown",
   "metadata": {},
   "source": [
    "## 1.2 Loading of package"
   ]
  },
  {
   "cell_type": "code",
   "execution_count": 2,
   "metadata": {
    "collapsed": false
   },
   "outputs": [],
   "source": [
    "using PhyloTrees"
   ]
  },
  {
   "cell_type": "markdown",
   "metadata": {},
   "source": [
    "\n",
    "\n",
    "# 2.0 Tree construction"
   ]
  },
  {
   "cell_type": "markdown",
   "metadata": {},
   "source": [
    "## 2.1 Tree initialization"
   ]
  },
  {
   "cell_type": "code",
   "execution_count": 3,
   "metadata": {
    "collapsed": false
   },
   "outputs": [
    {
     "data": {
      "text/plain": [
       "\r",
       "\u001b[0mPhylogenetic tree with 1 nodes and 0 branches"
      ]
     },
     "execution_count": 3,
     "metadata": {},
     "output_type": "execute_result"
    }
   ],
   "source": [
    "# Initializes a tree with a single node\n",
    "tree_demo1 = Tree()"
   ]
  },
  {
   "cell_type": "code",
   "execution_count": 4,
   "metadata": {
    "collapsed": false
   },
   "outputs": [
    {
     "data": {
      "text/plain": [
       "\r",
       "\u001b[0mPhylogenetic tree with 3 nodes and 0 branches"
      ]
     },
     "execution_count": 4,
     "metadata": {},
     "output_type": "execute_result"
    }
   ],
   "source": [
    "# Initializes a tree with a specified number of nodes\n",
    "tree_demo2 = Tree(3)"
   ]
  },
  {
   "cell_type": "markdown",
   "metadata": {},
   "source": [
    "## 2.2 Nodes"
   ]
  },
  {
   "cell_type": "code",
   "execution_count": 5,
   "metadata": {
    "collapsed": false
   },
   "outputs": [
    {
     "data": {
      "text/plain": [
       "\r",
       "\u001b[0mPhylogenetic tree with 2 nodes and 0 branches"
      ]
     },
     "execution_count": 5,
     "metadata": {},
     "output_type": "execute_result"
    }
   ],
   "source": [
    "# Adds a single node to a tree\n",
    "addnode!(tree_demo1)"
   ]
  },
  {
   "cell_type": "code",
   "execution_count": 6,
   "metadata": {
    "collapsed": false
   },
   "outputs": [
    {
     "data": {
      "text/plain": [
       "\r",
       "\u001b[0mPhylogenetic tree with 8 nodes and 0 branches"
      ]
     },
     "execution_count": 6,
     "metadata": {},
     "output_type": "execute_result"
    }
   ],
   "source": [
    "# Adds a specified number of nodes to a tree\n",
    "addnodes!(tree_demo2, 5)"
   ]
  },
  {
   "cell_type": "code",
   "execution_count": 7,
   "metadata": {
    "collapsed": false
   },
   "outputs": [
    {
     "data": {
      "text/plain": [
       "2-element Array{PhyloTrees.Node,1}:\n",
       " \n",
       " "
      ]
     },
     "execution_count": 7,
     "metadata": {},
     "output_type": "execute_result"
    }
   ],
   "source": [
    "# Access or views the nodes of a tree\n",
    "tree_demo1.nodes"
   ]
  },
  {
   "cell_type": "markdown",
   "metadata": {},
   "source": [
    "## 2.3 Branches"
   ]
  },
  {
   "cell_type": "code",
   "execution_count": 8,
   "metadata": {
    "collapsed": false
   },
   "outputs": [
    {
     "data": {
      "text/plain": [
       "\r",
       "\u001b[0mPhylogenetic tree with 2 nodes and 1 branches"
      ]
     },
     "execution_count": 8,
     "metadata": {},
     "output_type": "execute_result"
    }
   ],
   "source": [
    "# Adds a branch between a source and target node, of a specified length to a tree\n",
    "addbranch!(tree_demo1, 1, 2, 10.0)"
   ]
  },
  {
   "cell_type": "code",
   "execution_count": 9,
   "metadata": {
    "collapsed": false
   },
   "outputs": [
    {
     "data": {
      "text/plain": [
       "\r",
       "\u001b[0mPhylogenetic tree with 3 nodes and 2 branches"
      ]
     },
     "execution_count": 9,
     "metadata": {},
     "output_type": "execute_result"
    }
   ],
   "source": [
    "# Attaches a branch of a specified length to a source node, which terminates to a new node\n",
    "branch!(tree_demo1, 1, 5.0)"
   ]
  },
  {
   "cell_type": "code",
   "execution_count": 10,
   "metadata": {
    "collapsed": false
   },
   "outputs": [
    {
     "data": {
      "text/plain": [
       "2-element Array{PhyloTrees.Branch,1}:\n",
       " \r",
       "\u001b[0m[node 1]-->[\u001b[1m10.0 branch\u001b[0m]-->[node 2]\n",
       " \r",
       "\u001b[0m[node 1]-->[\u001b[1m5.0 branch\u001b[0m]-->[node 3] "
      ]
     },
     "execution_count": 10,
     "metadata": {},
     "output_type": "execute_result"
    }
   ],
   "source": [
    "# Access or view the `branches` contained within a tree`\n",
    "tree_demo1.branches"
   ]
  },
  {
   "cell_type": "markdown",
   "metadata": {},
   "source": [
    "## 2.4 Subtrees"
   ]
  },
  {
   "cell_type": "code",
   "execution_count": 11,
   "metadata": {
    "collapsed": false
   },
   "outputs": [
    {
     "data": {
      "text/plain": [
       "\r",
       "\u001b[0mPhylogenetic tree with 3 nodes and 2 branches"
      ]
     },
     "execution_count": 11,
     "metadata": {},
     "output_type": "execute_result"
    }
   ],
   "source": [
    "# Extracts the subtree from a specified node in an exisiting tree\n",
    "subtree_demo1 = subtree(tree_demo1, 1)"
   ]
  },
  {
   "cell_type": "code",
   "execution_count": 12,
   "metadata": {
    "collapsed": false
   },
   "outputs": [
    {
     "data": {
      "text/plain": [
       "\r",
       "\u001b[0mPhylogenetic tree with 6 nodes and 5 branches"
      ]
     },
     "execution_count": 12,
     "metadata": {},
     "output_type": "execute_result"
    }
   ],
   "source": [
    "# Adds a subtree to an existing tree\n",
    "addsubtree!(tree_demo1, subtree_demo1)\n",
    "\n",
    "# Adds a branch of a specified length connecting the newly added subtree\n",
    "addbranch!(tree_demo1, 2, 4, 17.0)"
   ]
  },
  {
   "cell_type": "markdown",
   "metadata": {},
   "source": [
    "# 3.0 Utilities"
   ]
  },
  {
   "cell_type": "markdown",
   "metadata": {},
   "source": [
    "## 3.1 Node types"
   ]
  },
  {
   "cell_type": "code",
   "execution_count": 13,
   "metadata": {
    "collapsed": false
   },
   "outputs": [
    {
     "data": {
      "text/plain": [
       "3-element Array{Bool,1}:\n",
       "  true\n",
       " false\n",
       " false"
      ]
     },
     "execution_count": 13,
     "metadata": {},
     "output_type": "execute_result"
    }
   ],
   "source": [
    "# Determines if a node is a root, leaf, or internal node respectively\n",
    "[isroot(tree_demo1, 1), \n",
    " isleaf(tree_demo1, 1),\n",
    " isnode(tree_demo1, 1)]"
   ]
  },
  {
   "cell_type": "code",
   "execution_count": 14,
   "metadata": {
    "collapsed": false
   },
   "outputs": [
    {
     "data": {
      "text/plain": [
       "\"Root\""
      ]
     },
     "execution_count": 14,
     "metadata": {},
     "output_type": "execute_result"
    }
   ],
   "source": [
    "# Returns the type of node (root node, leaf node, or internal node)\n",
    "nodetype(tree_demo1, 1)"
   ]
  },
  {
   "cell_type": "code",
   "execution_count": 15,
   "metadata": {
    "collapsed": false
   },
   "outputs": [
    {
     "name": "stdout",
     "output_type": "stream",
     "text": [
      "Roots: [1]\n",
      "Leaves: [3,5,6]\n",
      "Nodes: [2,4]\n"
     ]
    }
   ],
   "source": [
    "# Determine which nodes are roots, leaves, or internal nodes respectively\n",
    "println(\"Roots: $(findroots(tree_demo1))\")\n",
    "println(\"Leaves: $(findleaves(tree_demo1))\")\n",
    "println(\"Nodes: $(findnodes(tree_demo1))\")\n"
   ]
  },
  {
   "cell_type": "code",
   "execution_count": 16,
   "metadata": {
    "collapsed": false
   },
   "outputs": [
    {
     "data": {
      "text/plain": [
       "15.0"
      ]
     },
     "execution_count": 16,
     "metadata": {},
     "output_type": "execute_result"
    }
   ],
   "source": [
    "# Calculates the branch distance between any two nodes on a tree\n",
    "distance(tree_demo1, 2, 3)"
   ]
  },
  {
   "cell_type": "markdown",
   "metadata": {},
   "source": [
    "## 3.2 Node relationships"
   ]
  },
  {
   "cell_type": "code",
   "execution_count": 17,
   "metadata": {
    "collapsed": false
   },
   "outputs": [
    {
     "data": {
      "text/plain": [
       "true"
      ]
     },
     "execution_count": 17,
     "metadata": {},
     "output_type": "execute_result"
    }
   ],
   "source": [
    "# Determines if two nodes are connected either directly or indirectly\n",
    "areconnected(tree_demo1, 1, 2)"
   ]
  },
  {
   "cell_type": "code",
   "execution_count": 18,
   "metadata": {
    "collapsed": false
   },
   "outputs": [
    {
     "data": {
      "text/plain": [
       "2-element Array{Int64,1}:\n",
       " 1\n",
       " 2"
      ]
     },
     "execution_count": 18,
     "metadata": {},
     "output_type": "execute_result"
    }
   ],
   "source": [
    "# If two nodes are connected, determines the \"node path\" which connects them\n",
    "nodepath(tree_demo1, 1, 2)"
   ]
  },
  {
   "cell_type": "code",
   "execution_count": 19,
   "metadata": {
    "collapsed": false
   },
   "outputs": [
    {
     "data": {
      "text/plain": [
       "1-element Array{Any,1}:\n",
       " 1"
      ]
     },
     "execution_count": 19,
     "metadata": {},
     "output_type": "execute_result"
    }
   ],
   "source": [
    "# If two nodes are connected, determines the \"branch path\" which connects them\n",
    "branchpath(tree_demo1, 1, 2)"
   ]
  },
  {
   "cell_type": "code",
   "execution_count": 20,
   "metadata": {
    "collapsed": false
   },
   "outputs": [
    {
     "data": {
      "text/plain": [
       "1"
      ]
     },
     "execution_count": 20,
     "metadata": {},
     "output_type": "execute_result"
    }
   ],
   "source": [
    "# Lists the parent node associated with a specified node\n",
    "parentnode(tree_demo1, 2)"
   ]
  },
  {
   "cell_type": "code",
   "execution_count": 21,
   "metadata": {
    "collapsed": false
   },
   "outputs": [
    {
     "data": {
      "text/plain": [
       "1-element Array{Int64,1}:\n",
       " 1"
      ]
     },
     "execution_count": 21,
     "metadata": {},
     "output_type": "execute_result"
    }
   ],
   "source": [
    "# Lists all the ancestor nodes associated with a specified node\n",
    "ancestornodes(tree_demo1, 2)"
   ]
  },
  {
   "cell_type": "code",
   "execution_count": 22,
   "metadata": {
    "collapsed": false
   },
   "outputs": [
    {
     "data": {
      "text/plain": [
       "1"
      ]
     },
     "execution_count": 22,
     "metadata": {},
     "output_type": "execute_result"
    }
   ],
   "source": [
    "# Lists the number of ancestors a specified node has\n",
    "ancestorcount(tree_demo1, 2)"
   ]
  },
  {
   "cell_type": "code",
   "execution_count": 23,
   "metadata": {
    "collapsed": false
   },
   "outputs": [
    {
     "data": {
      "text/plain": [
       "2-element Array{Int64,1}:\n",
       " 2\n",
       " 3"
      ]
     },
     "execution_count": 23,
     "metadata": {},
     "output_type": "execute_result"
    }
   ],
   "source": [
    "# Lists all the child nodes associated with a specified node\n",
    "childnodes(tree_demo1, 1)"
   ]
  },
  {
   "cell_type": "code",
   "execution_count": 24,
   "metadata": {
    "collapsed": false
   },
   "outputs": [
    {
     "data": {
      "text/plain": [
       "5-element Array{Int64,1}:\n",
       " 2\n",
       " 3\n",
       " 4\n",
       " 5\n",
       " 6"
      ]
     },
     "execution_count": 24,
     "metadata": {},
     "output_type": "execute_result"
    }
   ],
   "source": [
    "# Lists all the descendant nodes associated with a specified node\n",
    "descendantnodes(tree_demo1, 1)"
   ]
  },
  {
   "cell_type": "code",
   "execution_count": 25,
   "metadata": {
    "collapsed": false
   },
   "outputs": [
    {
     "data": {
      "text/plain": [
       "5"
      ]
     },
     "execution_count": 25,
     "metadata": {},
     "output_type": "execute_result"
    }
   ],
   "source": [
    "# Lists the number of descendants a specified node has\n",
    "descendantcount(tree_demo1, 1)"
   ]
  },
  {
   "cell_type": "markdown",
   "metadata": {},
   "source": [
    "# 4.0 Plotting"
   ]
  },
  {
   "cell_type": "code",
   "execution_count": 26,
   "metadata": {
    "collapsed": false
   },
   "outputs": [
    {
     "data": {
      "text/html": [
       "<img src=\"data:image/png;base64,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\" />"
      ]
     },
     "execution_count": 26,
     "metadata": {},
     "output_type": "execute_result"
    }
   ],
   "source": [
    "# We'll increase tree complexity a bit first...\n",
    "branch!(tree_demo1, 2, 8.0)\n",
    "addsubtree!(tree_demo1, subtree(tree_demo1, 1))\n",
    "addbranch!(tree_demo1, 3, 8, 11.0)\n",
    "branch!(tree_demo1, 3, 21.0)\n",
    "\n",
    "# Plots the tree\n",
    "using Plots\n",
    "pyplot()\n",
    "plot(tree_demo1)"
   ]
  },
  {
   "cell_type": "markdown",
   "metadata": {},
   "source": [
    "# 5.0 Simulation"
   ]
  },
  {
   "cell_type": "code",
   "execution_count": 27,
   "metadata": {
    "collapsed": false
   },
   "outputs": [
    {
     "data": {
      "text/plain": [
       "15-element Array{PhyloTrees.Node,1}:\n",
       " \r",
       "\u001b[0m[\u001b[1mroot node\u001b[0m]-->[branch 1]\n",
       "\u001b[0m           -->[branch 2]                                    \n",
       " \r",
       "\u001b[0m[branch 1]-->[\u001b[1minternal node\u001b[0m]-->[branch 5]\n",
       "\u001b[0m                            -->[branch 6]  \n",
       " \r",
       "\u001b[0m[branch 2]-->[\u001b[1minternal node\u001b[0m]-->[branch 13]\n",
       "\u001b[0m                            -->[branch 14]\n",
       " \r",
       "\u001b[0m[branch 5]-->[\u001b[1minternal node\u001b[0m]-->[branch 3]\n",
       "\u001b[0m                            -->[branch 4]  \n",
       " \r",
       "\u001b[0m[branch 3]-->[\u001b[1mleaf node\u001b[0m]                                                                 \n",
       " \r",
       "\u001b[0m[branch 4]-->[\u001b[1mleaf node\u001b[0m]                                                                 \n",
       " \r",
       "\u001b[0m[branch 6]-->[\u001b[1mleaf node\u001b[0m]                                                                 \n",
       " \r",
       "\u001b[0m[branch 13]-->[\u001b[1minternal node\u001b[0m]-->[branch 7]\n",
       "\u001b[0m                             -->[branch 8]\n",
       " \r",
       "\u001b[0m[branch 7]-->[\u001b[1minternal node\u001b[0m]-->[branch 9]\n",
       "\u001b[0m                            -->[branch 10] \n",
       " \r",
       "\u001b[0m[branch 8]-->[\u001b[1mleaf node\u001b[0m]                                                                 \n",
       " \r",
       "\u001b[0m[branch 9]-->[\u001b[1minternal node\u001b[0m]-->[branch 11]\n",
       "\u001b[0m                            -->[branch 12]\n",
       " \r",
       "\u001b[0m[branch 10]-->[\u001b[1mleaf node\u001b[0m]                                                                \n",
       " \r",
       "\u001b[0m[branch 11]-->[\u001b[1mleaf node\u001b[0m]                                                                \n",
       " \r",
       "\u001b[0m[branch 12]-->[\u001b[1mleaf node\u001b[0m]                                                                \n",
       " \r",
       "\u001b[0m[branch 14]-->[\u001b[1mleaf node\u001b[0m]                                                                "
      ]
     },
     "execution_count": 27,
     "metadata": {},
     "output_type": "execute_result"
    }
   ],
   "source": [
    "tree_demo1.nodes"
   ]
  },
  {
   "cell_type": "markdown",
   "metadata": {},
   "source": [
    "## 5.1 Substitution models"
   ]
  },
  {
   "cell_type": "code",
   "execution_count": 28,
   "metadata": {
    "collapsed": false
   },
   "outputs": [
    {
     "data": {
      "text/plain": [
       "\r",
       "\u001b[0m\u001b[1mJ\u001b[0mukes and \u001b[1mC\u001b[0mantor 19\u001b[1m69\u001b[0m substitution model\n",
       "\n",
       "[-3.0 1.0 1.0 1.0; 1.0 -3.0 1.0 1.0; 1.0 1.0 -3.0 1.0; 1.0 1.0 1.0 -3.0]"
      ]
     },
     "execution_count": 28,
     "metadata": {},
     "output_type": "execute_result"
    }
   ],
   "source": [
    "# Generates the relative rate formulation of the JC69 substitution model \n",
    "JC69_demo = JC69()\n",
    "\n",
    "# See PhyloTrees/src/substitution_models/ for several additional substitution models"
   ]
  },
  {
   "cell_type": "markdown",
   "metadata": {},
   "source": [
    "## 5.2 DNA sequence generation"
   ]
  },
  {
   "cell_type": "code",
   "execution_count": 29,
   "metadata": {
    "collapsed": false
   },
   "outputs": [
    {
     "data": {
      "text/plain": [
       "15-element Array{PhyloTrees.Sequence,1}:\n",
       " AAACGGAGTTCAA...GCTAGACAAGTACA\n",
       " AAACGGAGTTCAA...GCTAGACAAGTACA\n",
       " AAACGGAGTTCAA...GCTAGACAAGTACA\n",
       " AAACGGAGTTCAA...GCTAGACAAGTACA\n",
       " AAACGGAGTTCAA...GCTAGACAAGTACA\n",
       " AAACGGAGTTCAA...GCTAGACAAGTACA\n",
       " AAACGGAGTTCAA...GCTAGACAAGTACA\n",
       " AAACGGAGTTCAA...GCTAGACAAGTACA\n",
       " AAACGGAGTTCAA...GCTAGACAAGTACA\n",
       " AAACGGAGTTCAA...GCTAGACAAGTACA\n",
       " AAACGGAGTTCAA...GCTAGACAAGTACA\n",
       " AAACGGAGTTCAA...GCTAGACAAGTACA\n",
       " AAACGGAGTTCAA...GCTAGACAAGTACA\n",
       " AAACGGAGTTCAA...GCTAGACAAGTACA\n",
       " AAACGGAGTTCAA...GCTAGACAAGTACA"
      ]
     },
     "execution_count": 29,
     "metadata": {},
     "output_type": "execute_result"
    }
   ],
   "source": [
    "# Generates DNA sequence data for nodes of a tree.\n",
    "seqdemo = simulate(tree_demo1, JC69_demo, 1000)\n",
    "\n",
    "# The root sequence may be specified or generated.\n",
    "\n",
    "# Site rates may be constant or variable. "
   ]
  }
 ],
 "metadata": {
  "kernelspec": {
   "display_name": "Julia 0.5.0",
   "language": "julia",
   "name": "julia-0.5"
  },
  "language_info": {
   "file_extension": ".jl",
   "mimetype": "application/julia",
   "name": "julia",
   "version": "0.5.0"
  }
 },
 "nbformat": 4,
 "nbformat_minor": 0
}
